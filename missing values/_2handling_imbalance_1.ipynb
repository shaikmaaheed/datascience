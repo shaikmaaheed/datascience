{
 "cells": [
  {
   "cell_type": "markdown",
   "metadata": {},
   "source": [
    "# Here we will learn how to handle imbalanced data sets"
   ]
  },
  {
   "cell_type": "markdown",
   "metadata": {},
   "source": [
    "## There are two methods to handle that. They are :-\n",
    "\n",
    "        1. Upsampling\n",
    "        2. Downsampling\n",
    "\n",
    "Now we can have a practical look on they :-\n",
    "\n",
    "        Step 1 :- \n",
    "                creating a imbalance dataset which follows random distribution using random methods\n",
    "        step 2:- merging them together\n",
    "        step 3:- Having a look on downsampling\n",
    "        step 4:- Having a look on upsampling\n"
   ]
  },
  {
   "cell_type": "code",
   "execution_count": 11,
   "metadata": {},
   "outputs": [
    {
     "data": {
      "text/plain": [
       "(900, 100)"
      ]
     },
     "execution_count": 11,
     "metadata": {},
     "output_type": "execute_result"
    }
   ],
   "source": [
    "import numpy as np\n",
    "import pandas as pd\n",
    "\n",
    "\n",
    "total_samples = 1000\n",
    "imbalance_ratio = 0.9\n",
    "\n",
    "# Creating shapes of dataset which having imbalance data\n",
    "dset1 = int(total_samples * imbalance_ratio)\n",
    "dset2 = total_samples - dset1\n",
    "dset1,dset2"
   ]
  },
  {
   "cell_type": "code",
   "execution_count": 68,
   "metadata": {},
   "outputs": [
    {
     "data": {
      "text/plain": [
       "(      Column0   Column1  Tgt\n",
       " 0   -1.560352 -0.098932    0\n",
       " 1   -0.030978  0.587077    0\n",
       " 2   -0.620928 -1.054589    0\n",
       " 3   -1.464580 -1.028763    0\n",
       " 4    1.411946  0.324330    0\n",
       " ..        ...       ...  ...\n",
       " 895 -0.436827  0.597436    0\n",
       " 896 -0.328299 -1.395772    0\n",
       " 897  1.131414  0.664117    0\n",
       " 898 -0.250921 -0.931639    0\n",
       " 899 -0.543287  0.407108    0\n",
       " \n",
       " [900 rows x 3 columns],\n",
       "      Column0   Column1  Tgt\n",
       " 0   0.153333  1.432912    1\n",
       " 1   1.851210  1.850155    1\n",
       " 2  -0.063522  0.436402    1\n",
       " 3   0.182513 -0.616574    1\n",
       " 4   0.754748 -0.152089    1\n",
       " ..       ...       ...  ...\n",
       " 95 -0.392789 -0.623098    1\n",
       " 96  1.942472  0.068365    1\n",
       " 97  0.885720  0.189992    1\n",
       " 98  0.442306 -1.118375    1\n",
       " 99  1.042787 -0.796007    1\n",
       " \n",
       " [100 rows x 3 columns])"
      ]
     },
     "execution_count": 68,
     "metadata": {},
     "output_type": "execute_result"
    }
   ],
   "source": [
    "np.random.seed(50) # this will generate same values every time based on given integers\n",
    "df1 = pd.DataFrame({\n",
    "    \"Column0\" : np.random.normal(loc=0, scale=1, size=dset1),\n",
    "    \"Column1\" : np.random.normal(loc=0, scale=1, size=dset1),\n",
    "    \"Tgt\" : [0] * dset1\n",
    "})\n",
    "df2 = pd.DataFrame({\n",
    "    \"Column0\" : np.random.normal(loc=0, scale=1, size=dset2),\n",
    "    \"Column1\" : np.random.normal(loc=0, scale=1, size=dset2),\n",
    "    \"Tgt\" : [1] * dset2\n",
    "})\n",
    "df1, df2"
   ]
  },
  {
   "cell_type": "code",
   "execution_count": 69,
   "metadata": {},
   "outputs": [
    {
     "data": {
      "text/plain": [
       "0    900\n",
       "1    100\n",
       "Name: Tgt, dtype: int64"
      ]
     },
     "execution_count": 69,
     "metadata": {},
     "output_type": "execute_result"
    }
   ],
   "source": [
    "df = pd.concat([df1, df2]) # merging both datasets to get main imbalance dataset\n",
    "del df1, df2 # this dataframes are not required anymore.\n",
    "df['Tgt'].value_counts() # Looking in to Tgt column"
   ]
  },
  {
   "cell_type": "code",
   "execution_count": 45,
   "metadata": {},
   "outputs": [
    {
     "data": {
      "text/html": [
       "<div>\n",
       "<style scoped>\n",
       "    .dataframe tbody tr th:only-of-type {\n",
       "        vertical-align: middle;\n",
       "    }\n",
       "\n",
       "    .dataframe tbody tr th {\n",
       "        vertical-align: top;\n",
       "    }\n",
       "\n",
       "    .dataframe thead th {\n",
       "        text-align: right;\n",
       "    }\n",
       "</style>\n",
       "<table border=\"1\" class=\"dataframe\">\n",
       "  <thead>\n",
       "    <tr style=\"text-align: right;\">\n",
       "      <th></th>\n",
       "      <th>Column0</th>\n",
       "      <th>Column1</th>\n",
       "      <th>Tgt</th>\n",
       "    </tr>\n",
       "  </thead>\n",
       "  <tbody>\n",
       "    <tr>\n",
       "      <th>0</th>\n",
       "      <td>-1.560352</td>\n",
       "      <td>-0.098932</td>\n",
       "      <td>0</td>\n",
       "    </tr>\n",
       "    <tr>\n",
       "      <th>1</th>\n",
       "      <td>-0.030978</td>\n",
       "      <td>0.587077</td>\n",
       "      <td>0</td>\n",
       "    </tr>\n",
       "    <tr>\n",
       "      <th>2</th>\n",
       "      <td>-0.620928</td>\n",
       "      <td>-1.054589</td>\n",
       "      <td>0</td>\n",
       "    </tr>\n",
       "    <tr>\n",
       "      <th>3</th>\n",
       "      <td>-1.464580</td>\n",
       "      <td>-1.028763</td>\n",
       "      <td>0</td>\n",
       "    </tr>\n",
       "    <tr>\n",
       "      <th>4</th>\n",
       "      <td>1.411946</td>\n",
       "      <td>0.324330</td>\n",
       "      <td>0</td>\n",
       "    </tr>\n",
       "    <tr>\n",
       "      <th>...</th>\n",
       "      <td>...</td>\n",
       "      <td>...</td>\n",
       "      <td>...</td>\n",
       "    </tr>\n",
       "    <tr>\n",
       "      <th>995</th>\n",
       "      <td>-0.392789</td>\n",
       "      <td>-0.623098</td>\n",
       "      <td>1</td>\n",
       "    </tr>\n",
       "    <tr>\n",
       "      <th>996</th>\n",
       "      <td>1.942472</td>\n",
       "      <td>0.068365</td>\n",
       "      <td>1</td>\n",
       "    </tr>\n",
       "    <tr>\n",
       "      <th>997</th>\n",
       "      <td>0.885720</td>\n",
       "      <td>0.189992</td>\n",
       "      <td>1</td>\n",
       "    </tr>\n",
       "    <tr>\n",
       "      <th>998</th>\n",
       "      <td>0.442306</td>\n",
       "      <td>-1.118375</td>\n",
       "      <td>1</td>\n",
       "    </tr>\n",
       "    <tr>\n",
       "      <th>999</th>\n",
       "      <td>1.042787</td>\n",
       "      <td>-0.796007</td>\n",
       "      <td>1</td>\n",
       "    </tr>\n",
       "  </tbody>\n",
       "</table>\n",
       "<p>1000 rows × 3 columns</p>\n",
       "</div>"
      ],
      "text/plain": [
       "      Column0   Column1  Tgt\n",
       "0   -1.560352 -0.098932    0\n",
       "1   -0.030978  0.587077    0\n",
       "2   -0.620928 -1.054589    0\n",
       "3   -1.464580 -1.028763    0\n",
       "4    1.411946  0.324330    0\n",
       "..        ...       ...  ...\n",
       "995 -0.392789 -0.623098    1\n",
       "996  1.942472  0.068365    1\n",
       "997  0.885720  0.189992    1\n",
       "998  0.442306 -1.118375    1\n",
       "999  1.042787 -0.796007    1\n",
       "\n",
       "[1000 rows x 3 columns]"
      ]
     },
     "execution_count": 45,
     "metadata": {},
     "output_type": "execute_result"
    }
   ],
   "source": [
    "## reseting index\n",
    "df.reset_index(drop=True)"
   ]
  },
  {
   "cell_type": "code",
   "execution_count": 49,
   "metadata": {},
   "outputs": [],
   "source": [
    "from sklearn.utils import resample\n",
    "# this method is used for resampling, uses random sampling and default sampling by default\n",
    "\n",
    "# we can also recreate the df1, df2 again with pandas with following method\n",
    "df1 = df[df[\"Tgt\"]==0] # this is majority dataset where rows equal to 900\n",
    "df2 = df[df[\"Tgt\"]==1] # this is minority dataset where rows equal to 100"
   ]
  },
  {
   "cell_type": "markdown",
   "metadata": {},
   "source": [
    "### Here df1 having more 0 in target so we need to reduce those values and then mix with the df2 this method is called downsampling"
   ]
  },
  {
   "cell_type": "code",
   "execution_count": 52,
   "metadata": {},
   "outputs": [
    {
     "data": {
      "text/html": [
       "<div>\n",
       "<style scoped>\n",
       "    .dataframe tbody tr th:only-of-type {\n",
       "        vertical-align: middle;\n",
       "    }\n",
       "\n",
       "    .dataframe tbody tr th {\n",
       "        vertical-align: top;\n",
       "    }\n",
       "\n",
       "    .dataframe thead th {\n",
       "        text-align: right;\n",
       "    }\n",
       "</style>\n",
       "<table border=\"1\" class=\"dataframe\">\n",
       "  <thead>\n",
       "    <tr style=\"text-align: right;\">\n",
       "      <th></th>\n",
       "      <th>Column0</th>\n",
       "      <th>Column1</th>\n",
       "      <th>Tgt</th>\n",
       "    </tr>\n",
       "  </thead>\n",
       "  <tbody>\n",
       "    <tr>\n",
       "      <th>688</th>\n",
       "      <td>0.110897</td>\n",
       "      <td>0.142652</td>\n",
       "      <td>0</td>\n",
       "    </tr>\n",
       "    <tr>\n",
       "      <th>480</th>\n",
       "      <td>0.485773</td>\n",
       "      <td>-0.733560</td>\n",
       "      <td>0</td>\n",
       "    </tr>\n",
       "    <tr>\n",
       "      <th>109</th>\n",
       "      <td>-2.444716</td>\n",
       "      <td>1.819445</td>\n",
       "      <td>0</td>\n",
       "    </tr>\n",
       "    <tr>\n",
       "      <th>289</th>\n",
       "      <td>0.920007</td>\n",
       "      <td>1.743950</td>\n",
       "      <td>0</td>\n",
       "    </tr>\n",
       "    <tr>\n",
       "      <th>132</th>\n",
       "      <td>-0.640622</td>\n",
       "      <td>-0.417895</td>\n",
       "      <td>0</td>\n",
       "    </tr>\n",
       "    <tr>\n",
       "      <th>...</th>\n",
       "      <td>...</td>\n",
       "      <td>...</td>\n",
       "      <td>...</td>\n",
       "    </tr>\n",
       "    <tr>\n",
       "      <th>342</th>\n",
       "      <td>-0.356296</td>\n",
       "      <td>1.559659</td>\n",
       "      <td>0</td>\n",
       "    </tr>\n",
       "    <tr>\n",
       "      <th>811</th>\n",
       "      <td>0.083715</td>\n",
       "      <td>-1.222527</td>\n",
       "      <td>0</td>\n",
       "    </tr>\n",
       "    <tr>\n",
       "      <th>275</th>\n",
       "      <td>-0.224136</td>\n",
       "      <td>-1.253117</td>\n",
       "      <td>0</td>\n",
       "    </tr>\n",
       "    <tr>\n",
       "      <th>224</th>\n",
       "      <td>1.089509</td>\n",
       "      <td>0.420127</td>\n",
       "      <td>0</td>\n",
       "    </tr>\n",
       "    <tr>\n",
       "      <th>872</th>\n",
       "      <td>0.772446</td>\n",
       "      <td>0.085711</td>\n",
       "      <td>0</td>\n",
       "    </tr>\n",
       "  </tbody>\n",
       "</table>\n",
       "<p>100 rows × 3 columns</p>\n",
       "</div>"
      ],
      "text/plain": [
       "      Column0   Column1  Tgt\n",
       "688  0.110897  0.142652    0\n",
       "480  0.485773 -0.733560    0\n",
       "109 -2.444716  1.819445    0\n",
       "289  0.920007  1.743950    0\n",
       "132 -0.640622 -0.417895    0\n",
       "..        ...       ...  ...\n",
       "342 -0.356296  1.559659    0\n",
       "811  0.083715 -1.222527    0\n",
       "275 -0.224136 -1.253117    0\n",
       "224  1.089509  0.420127    0\n",
       "872  0.772446  0.085711    0\n",
       "\n",
       "[100 rows x 3 columns]"
      ]
     },
     "execution_count": 52,
     "metadata": {},
     "output_type": "execute_result"
    }
   ],
   "source": [
    "reduced_df1 = resample(df1, replace=True,\n",
    "                       n_samples=len(df2),\n",
    "                       random_state=50) # taken 100 samples from 900 samples. here data is lossed \n",
    "reduced_df1"
   ]
  },
  {
   "cell_type": "code",
   "execution_count": 59,
   "metadata": {},
   "outputs": [
    {
     "data": {
      "text/html": [
       "<div>\n",
       "<style scoped>\n",
       "    .dataframe tbody tr th:only-of-type {\n",
       "        vertical-align: middle;\n",
       "    }\n",
       "\n",
       "    .dataframe tbody tr th {\n",
       "        vertical-align: top;\n",
       "    }\n",
       "\n",
       "    .dataframe thead th {\n",
       "        text-align: right;\n",
       "    }\n",
       "</style>\n",
       "<table border=\"1\" class=\"dataframe\">\n",
       "  <thead>\n",
       "    <tr style=\"text-align: right;\">\n",
       "      <th></th>\n",
       "      <th>Column0</th>\n",
       "      <th>Column1</th>\n",
       "      <th>Tgt</th>\n",
       "    </tr>\n",
       "  </thead>\n",
       "  <tbody>\n",
       "    <tr>\n",
       "      <th>806</th>\n",
       "      <td>0.416837</td>\n",
       "      <td>-1.854719</td>\n",
       "      <td>0</td>\n",
       "    </tr>\n",
       "    <tr>\n",
       "      <th>188</th>\n",
       "      <td>2.712144</td>\n",
       "      <td>-0.107462</td>\n",
       "      <td>0</td>\n",
       "    </tr>\n",
       "    <tr>\n",
       "      <th>222</th>\n",
       "      <td>1.577870</td>\n",
       "      <td>2.094607</td>\n",
       "      <td>0</td>\n",
       "    </tr>\n",
       "    <tr>\n",
       "      <th>407</th>\n",
       "      <td>-1.188551</td>\n",
       "      <td>-0.919913</td>\n",
       "      <td>0</td>\n",
       "    </tr>\n",
       "    <tr>\n",
       "      <th>7</th>\n",
       "      <td>1.070268</td>\n",
       "      <td>1.352667</td>\n",
       "      <td>0</td>\n",
       "    </tr>\n",
       "    <tr>\n",
       "      <th>...</th>\n",
       "      <td>...</td>\n",
       "      <td>...</td>\n",
       "      <td>...</td>\n",
       "    </tr>\n",
       "    <tr>\n",
       "      <th>690</th>\n",
       "      <td>0.500014</td>\n",
       "      <td>-1.318416</td>\n",
       "      <td>0</td>\n",
       "    </tr>\n",
       "    <tr>\n",
       "      <th>104</th>\n",
       "      <td>-0.168575</td>\n",
       "      <td>-2.233004</td>\n",
       "      <td>0</td>\n",
       "    </tr>\n",
       "    <tr>\n",
       "      <th>253</th>\n",
       "      <td>1.124327</td>\n",
       "      <td>-1.260511</td>\n",
       "      <td>0</td>\n",
       "    </tr>\n",
       "    <tr>\n",
       "      <th>46</th>\n",
       "      <td>-0.358858</td>\n",
       "      <td>1.161654</td>\n",
       "      <td>0</td>\n",
       "    </tr>\n",
       "    <tr>\n",
       "      <th>438</th>\n",
       "      <td>-1.420104</td>\n",
       "      <td>0.348388</td>\n",
       "      <td>0</td>\n",
       "    </tr>\n",
       "  </tbody>\n",
       "</table>\n",
       "<p>100 rows × 3 columns</p>\n",
       "</div>"
      ],
      "text/plain": [
       "      Column0   Column1  Tgt\n",
       "806  0.416837 -1.854719    0\n",
       "188  2.712144 -0.107462    0\n",
       "222  1.577870  2.094607    0\n",
       "407 -1.188551 -0.919913    0\n",
       "7    1.070268  1.352667    0\n",
       "..        ...       ...  ...\n",
       "690  0.500014 -1.318416    0\n",
       "104 -0.168575 -2.233004    0\n",
       "253  1.124327 -1.260511    0\n",
       "46  -0.358858  1.161654    0\n",
       "438 -1.420104  0.348388    0\n",
       "\n",
       "[100 rows x 3 columns]"
      ]
     },
     "execution_count": 59,
     "metadata": {},
     "output_type": "execute_result"
    }
   ],
   "source": [
    "reduced_df1 = resample(df1, replace=False, # replace = False give us unique values only\n",
    "                       n_samples=len(df2),\n",
    "                       random_state=50) # taken 100 samples from 900 samples. here data is lossed \n",
    "reduced_df1"
   ]
  },
  {
   "cell_type": "markdown",
   "metadata": {},
   "source": [
    "### Here df2 having less count compared to df1 so we need to increase those values and then mix with the df1 this method is called upsampling"
   ]
  },
  {
   "cell_type": "code",
   "execution_count": 58,
   "metadata": {},
   "outputs": [
    {
     "data": {
      "text/html": [
       "<div>\n",
       "<style scoped>\n",
       "    .dataframe tbody tr th:only-of-type {\n",
       "        vertical-align: middle;\n",
       "    }\n",
       "\n",
       "    .dataframe tbody tr th {\n",
       "        vertical-align: top;\n",
       "    }\n",
       "\n",
       "    .dataframe thead th {\n",
       "        text-align: right;\n",
       "    }\n",
       "</style>\n",
       "<table border=\"1\" class=\"dataframe\">\n",
       "  <thead>\n",
       "    <tr style=\"text-align: right;\">\n",
       "      <th></th>\n",
       "      <th>Column0</th>\n",
       "      <th>Column1</th>\n",
       "      <th>Tgt</th>\n",
       "    </tr>\n",
       "  </thead>\n",
       "  <tbody>\n",
       "    <tr>\n",
       "      <th>48</th>\n",
       "      <td>-2.151085</td>\n",
       "      <td>-0.592497</td>\n",
       "      <td>1</td>\n",
       "    </tr>\n",
       "    <tr>\n",
       "      <th>96</th>\n",
       "      <td>1.942472</td>\n",
       "      <td>0.068365</td>\n",
       "      <td>1</td>\n",
       "    </tr>\n",
       "    <tr>\n",
       "      <th>11</th>\n",
       "      <td>0.577360</td>\n",
       "      <td>0.211948</td>\n",
       "      <td>1</td>\n",
       "    </tr>\n",
       "    <tr>\n",
       "      <th>33</th>\n",
       "      <td>1.547619</td>\n",
       "      <td>0.821354</td>\n",
       "      <td>1</td>\n",
       "    </tr>\n",
       "    <tr>\n",
       "      <th>94</th>\n",
       "      <td>0.835437</td>\n",
       "      <td>0.716605</td>\n",
       "      <td>1</td>\n",
       "    </tr>\n",
       "    <tr>\n",
       "      <th>...</th>\n",
       "      <td>...</td>\n",
       "      <td>...</td>\n",
       "      <td>...</td>\n",
       "    </tr>\n",
       "    <tr>\n",
       "      <th>75</th>\n",
       "      <td>0.770849</td>\n",
       "      <td>0.625531</td>\n",
       "      <td>1</td>\n",
       "    </tr>\n",
       "    <tr>\n",
       "      <th>80</th>\n",
       "      <td>0.799130</td>\n",
       "      <td>0.998024</td>\n",
       "      <td>1</td>\n",
       "    </tr>\n",
       "    <tr>\n",
       "      <th>34</th>\n",
       "      <td>-0.098642</td>\n",
       "      <td>0.249638</td>\n",
       "      <td>1</td>\n",
       "    </tr>\n",
       "    <tr>\n",
       "      <th>88</th>\n",
       "      <td>-0.667568</td>\n",
       "      <td>-0.597570</td>\n",
       "      <td>1</td>\n",
       "    </tr>\n",
       "    <tr>\n",
       "      <th>30</th>\n",
       "      <td>0.553962</td>\n",
       "      <td>1.465911</td>\n",
       "      <td>1</td>\n",
       "    </tr>\n",
       "  </tbody>\n",
       "</table>\n",
       "<p>900 rows × 3 columns</p>\n",
       "</div>"
      ],
      "text/plain": [
       "     Column0   Column1  Tgt\n",
       "48 -2.151085 -0.592497    1\n",
       "96  1.942472  0.068365    1\n",
       "11  0.577360  0.211948    1\n",
       "33  1.547619  0.821354    1\n",
       "94  0.835437  0.716605    1\n",
       "..       ...       ...  ...\n",
       "75  0.770849  0.625531    1\n",
       "80  0.799130  0.998024    1\n",
       "34 -0.098642  0.249638    1\n",
       "88 -0.667568 -0.597570    1\n",
       "30  0.553962  1.465911    1\n",
       "\n",
       "[900 rows x 3 columns]"
      ]
     },
     "execution_count": 58,
     "metadata": {},
     "output_type": "execute_result"
    }
   ],
   "source": [
    "elevated_df2 = resample(df2, replace=True,  # Not taking unique values because sample size is 100 but we need to make 900\n",
    "                        n_samples=len(df1),\n",
    "                        random_state=50)\n",
    "elevated_df2"
   ]
  },
  {
   "cell_type": "code",
   "execution_count": 62,
   "metadata": {},
   "outputs": [
    {
     "data": {
      "text/plain": [
       "(900, 100, 100, 900)"
      ]
     },
     "execution_count": 62,
     "metadata": {},
     "output_type": "execute_result"
    }
   ],
   "source": [
    "len(df1), len(reduced_df1), len(df2), len(elevated_df2)"
   ]
  },
  {
   "cell_type": "markdown",
   "metadata": {},
   "source": [
    "Now we can concat dfl and elevated_df2 or reduced_df1 and df2"
   ]
  },
  {
   "cell_type": "code",
   "execution_count": 66,
   "metadata": {},
   "outputs": [
    {
     "data": {
      "text/plain": [
       "0    900\n",
       "1    900\n",
       "Name: Tgt, dtype: int64"
      ]
     },
     "execution_count": 66,
     "metadata": {},
     "output_type": "execute_result"
    }
   ],
   "source": [
    "pd.concat([df1, elevated_df2])[\"Tgt\"].value_counts()"
   ]
  },
  {
   "cell_type": "code",
   "execution_count": 67,
   "metadata": {},
   "outputs": [
    {
     "data": {
      "text/plain": [
       "1    100\n",
       "0    100\n",
       "Name: Tgt, dtype: int64"
      ]
     },
     "execution_count": 67,
     "metadata": {},
     "output_type": "execute_result"
    }
   ],
   "source": [
    "pd.concat([df2, reduced_df1])[\"Tgt\"].value_counts()"
   ]
  },
  {
   "cell_type": "markdown",
   "metadata": {},
   "source": [
    "Finally we handled inbalance datasets and made them equal."
   ]
  }
 ],
 "metadata": {
  "kernelspec": {
   "display_name": "Python 3",
   "language": "python",
   "name": "python3"
  },
  "language_info": {
   "codemirror_mode": {
    "name": "ipython",
    "version": 3
   },
   "file_extension": ".py",
   "mimetype": "text/x-python",
   "name": "python",
   "nbconvert_exporter": "python",
   "pygments_lexer": "ipython3",
   "version": "3.10.8"
  }
 },
 "nbformat": 4,
 "nbformat_minor": 2
}
