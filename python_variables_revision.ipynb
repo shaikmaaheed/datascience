{
 "cells": [
  {
   "cell_type": "markdown",
   "metadata": {},
   "source": [
    "# TOPIC: Python Basics Variable"
   ]
  },
  {
   "cell_type": "markdown",
   "metadata": {},
   "source": [
    "1. Declare two variables, `x` and `y`, and assign them integer values. Swap the values of these variables without using any temporary variable."
   ]
  },
  {
   "cell_type": "code",
   "execution_count": 1,
   "metadata": {},
   "outputs": [
    {
     "data": {
      "text/plain": [
       "(20, 10)"
      ]
     },
     "execution_count": 1,
     "metadata": {},
     "output_type": "execute_result"
    }
   ],
   "source": [
    "var1 = 10\n",
    "var2 = 20\n",
    "var2, var1 = var1, var2\n",
    "var1, var2"
   ]
  },
  {
   "cell_type": "markdown",
   "metadata": {},
   "source": [
    "2. Create a program that calculates the area of a rectangle. Take the length and width as inputs from the user and store them in variables. Calculate and display the area."
   ]
  },
  {
   "cell_type": "code",
   "execution_count": null,
   "metadata": {},
   "outputs": [],
   "source": [
    "def cal_rectangle_area(length, width):\n",
    "    return 2*(length*width)\n",
    "\n",
    "\n",
    "cal_rectangle_area(length=int(input(\"Please enter length : \")), width=int(input(\"Please enter width : \")))"
   ]
  },
  {
   "cell_type": "markdown",
   "metadata": {},
   "source": [
    "3. Write a Python program that converts temperatures from Celsius to Fahrenheit. Take the temperature in Celsius as input, store it in a variable, convert it to Fahrenheit, and display the result."
   ]
  },
  {
   "cell_type": "code",
   "execution_count": 7,
   "metadata": {},
   "outputs": [
    {
     "data": {
      "text/plain": [
       "22.78"
      ]
     },
     "metadata": {},
     "output_type": "display_data"
    }
   ],
   "source": [
    "def fahrenheitToCelsius(ftemp):\n",
    "    return round((ftemp - 32) * 5/9, 2)\n",
    "\n",
    "celsius = fahrenheitToCelsius(int(input(\"please enter temperature in Fahrenheit : \")))\n",
    "\n",
    "display(celsius)"
   ]
  },
  {
   "cell_type": "markdown",
   "metadata": {},
   "source": [
    "# TOPIC: String Based Questions"
   ]
  },
  {
   "cell_type": "markdown",
   "metadata": {},
   "source": [
    "1. Write a Python program that takes a string as input and prints the length of the string."
   ]
  },
  {
   "cell_type": "code",
   "execution_count": 8,
   "metadata": {},
   "outputs": [
    {
     "name": "stdout",
     "output_type": "stream",
     "text": [
      "4\n"
     ]
    }
   ],
   "source": [
    "print(len(input(\"please enter a string\")))"
   ]
  },
  {
   "cell_type": "markdown",
   "metadata": {},
   "source": [
    "2. Create a program that takes a sentence from the user and counts the number of vowels (a, e, i, o, u) in the string."
   ]
  },
  {
   "cell_type": "code",
   "execution_count": 12,
   "metadata": {},
   "outputs": [
    {
     "name": "stdout",
     "output_type": "stream",
     "text": [
      "Given sentence is \"please enter sentence\",\n",
      "count per vowel {'a': 1, 'e': 7, 'i': 0, 'o': 0, 'u': 0},\n",
      "total count of vowels 8\n"
     ]
    }
   ],
   "source": [
    "def vowel_counter(sentence):\n",
    "    vowels = (\"a\", \"e\", \"i\", \"o\", \"u\")\n",
    "    count = {}\n",
    "    total = 0\n",
    "    for vowel in vowels:\n",
    "        count_check = sentence.count(vowel)\n",
    "        count[vowel] = count_check\n",
    "        total += count_check\n",
    "    return f\"Given sentence is \\\"{sentence}\\\",\\ncount per vowel : {count},\\ntotal count of vowels in this sentence : {total}\"\n",
    "\n",
    "print(vowel_counter(input(\"please enter sentence : \")))"
   ]
  },
  {
   "cell_type": "markdown",
   "metadata": {},
   "source": [
    "3. Given a string, reverse the order of characters using string slicing and print the reversed string."
   ]
  },
  {
   "cell_type": "code",
   "execution_count": 13,
   "metadata": {},
   "outputs": [
    {
     "data": {
      "text/plain": [
       "'ecnetnes retne esaelp'"
      ]
     },
     "execution_count": 13,
     "metadata": {},
     "output_type": "execute_result"
    }
   ],
   "source": [
    "string = \"please enter sentence\"\n",
    "\n",
    "reverse_string = string[::-1]\n",
    "reverse_string"
   ]
  },
  {
   "cell_type": "markdown",
   "metadata": {},
   "source": [
    "4. Write a program that takes a string as input and checks if it is a palindrome"
   ]
  },
  {
   "cell_type": "code",
   "execution_count": 24,
   "metadata": {},
   "outputs": [
    {
     "name": "stdout",
     "output_type": "stream",
     "text": [
      "YES IT Is PALINDROME\n",
      "NO IT IS NOT A PALINDROME\n"
     ]
    }
   ],
   "source": [
    "def palindrome_checker(word):\n",
    "    if type(word)==str:\n",
    "        reverse_word = word[::-1]\n",
    "        if reverse_word == word:\n",
    "            return \"YES IT Is PALINDROME\"\n",
    "        return \"NO IT IS NOT A PALINDROME\"\n",
    "    return \"Please enter a valid string\"\n",
    "\n",
    "print(palindrome_checker(\"eye\"))\n",
    "print(palindrome_checker(\"ear\"))"
   ]
  },
  {
   "cell_type": "markdown",
   "metadata": {},
   "source": [
    "5. Create a program that takes a string as input and removes all the spaces from it. Print the modified string without spaces."
   ]
  },
  {
   "cell_type": "code",
   "execution_count": 21,
   "metadata": {},
   "outputs": [
    {
     "name": "stdout",
     "output_type": "stream",
     "text": [
      "Please enter a valid string\n"
     ]
    }
   ],
   "source": [
    "def space_remover(sentence:str):\n",
    "    if type(sentence)==str:\n",
    "        return sentence.replace(\" \", \"\")\n",
    "    return \"Please enter a valid string\"\n",
    "\n",
    "print(space_remover(444))"
   ]
  },
  {
   "cell_type": "code",
   "execution_count": null,
   "metadata": {},
   "outputs": [],
   "source": []
  }
 ],
 "metadata": {
  "kernelspec": {
   "display_name": "Python 3",
   "language": "python",
   "name": "python3"
  },
  "language_info": {
   "codemirror_mode": {
    "name": "ipython",
    "version": 3
   },
   "file_extension": ".py",
   "mimetype": "text/x-python",
   "name": "python",
   "nbconvert_exporter": "python",
   "pygments_lexer": "ipython3",
   "version": "3.10.8"
  },
  "orig_nbformat": 4
 },
 "nbformat": 4,
 "nbformat_minor": 2
}
